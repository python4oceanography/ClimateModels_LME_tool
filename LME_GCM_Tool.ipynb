{
 "cells": [
  {
   "cell_type": "markdown",
   "metadata": {},
   "source": [
    "# CMIP6 Climate Models Output on LME Regions\n",
    "## Tool to extract CMIP6 climate model SST output for LME (PICES for now) Regions & compare with satellite data.\n",
    "### Developed by  Chelle Gentemann (chellegentemann@gmail.com), Trond Kristiansen (trondkr@faralloninstitute.org) & Marisol Garcia-Reyes (marisolgr@gmail.com)\n",
    "***\n",
    "***"
   ]
  },
  {
   "cell_type": "markdown",
   "metadata": {},
   "source": [
    "# Instructions\n",
    "\n",
    "## To configure:\n",
    "### In the cell marked by   <b>`* Configuration *`</b>, specify: Region, Variable, Model\n",
    "## To execute:\n",
    "### Click on the top menu click: <b>`Run`</b> -> <b>`Run All`</b> \n",
    "***\n",
    "***"
   ]
  },
  {
   "cell_type": "markdown",
   "metadata": {},
   "source": [
    "# Regions\n",
    "<table width='100%'><tr>\n",
    "    <td width='10%'>\n",
    "        <b>Region Number</b><br><br>\n",
    "        11<br><br>12<br><br>13<br><br>14<br><br>15<br><br>16<br><br>17\n",
    "        <br><br>18<br><br>19<br><br>20<br><br>21<br><br>22<br><br>23<br><br>24</td>\n",
    "    <td width='20%' text-align='left'>\n",
    "    <b> Region Name</b><br><br>\n",
    "    California Current<br><br>\n",
    "    Gulf of Alaska<br><br>\n",
    "    East Bering Sea<br><br>\n",
    "    North Bering Sea<br><br>\n",
    "    Aleutian Islands<br><br>\n",
    "    West Bering Sea<br><br>\n",
    "    Sea of Okhotsk<br><br>\n",
    "    Oyashio Current<br><br>\n",
    "    R19<br><br>\n",
    "    Yellow Sea<br><br>\n",
    "    East China Sea<br><br>\n",
    "    Kuroshio Current<br><br>\n",
    "    West North Pacific<br><br>\n",
    "    East North Pacific<br></td>\n",
    "    <td>\n",
    "<img src='./utils/figures/PICES_all_regions_mask_ne.png' alt='North Pacific LME Regions' width='750'>\n",
    "    </td>\n",
    "    </tr>\n",
    "</table>\n",
    "\n",
    "\n",
    "***\n",
    "\n",
    "# Variables\n",
    "## a) <b>SST</b>: Sea Surface Temperature\n",
    "\n",
    "***\n",
    "\n",
    "# General Circulation Models\n",
    "## 1) <b>GFDL</b>\n",
    "\n",
    "***\n",
    "***\n"
   ]
  },
  {
   "cell_type": "markdown",
   "metadata": {},
   "source": [
    "###########################\n",
    "#  ***  Configuration   ***\n",
    "<br>\n",
    "###########################"
   ]
  },
  {
   "cell_type": "code",
   "execution_count": 4,
   "metadata": {},
   "outputs": [],
   "source": [
    "#######################\n",
    "#### Configuration ####\n",
    "#######################\n",
    "\n",
    "## Region to analyze ##\n",
    "region = 11 # <<<----- Use number (11 to 24) based on table above\n",
    "\n",
    "## Variable ##\n",
    "## Select the variable to analyze from the list above\n",
    "var = 'SST' # <<<----- Use short name given above. upper or lower case accepted.\n",
    "\n",
    "## Model(s) to analize - GFDL for now, or range later ##\n",
    "gcm = 'GFDL'\n",
    "\n",
    "##############################\n",
    "#### End of configuration ####\n",
    "##############################"
   ]
  },
  {
   "cell_type": "code",
   "execution_count": 2,
   "metadata": {},
   "outputs": [],
   "source": [
    "#### Do not modify ####\n",
    "  \n",
    "%matplotlib inline\n",
    "import sys\n",
    "sys.path.append('./utils/subroutines/')\n",
    "#from XX import analyze_LME_Model_Region\n",
    "\n",
    "# Call routine here\n",
    "#analyze_PICES_Region(region, var, initial_date, final_date)\n",
    "\n",
    "#### End of script ####"
   ]
  },
  {
   "cell_type": "code",
   "execution_count": 3,
   "metadata": {},
   "outputs": [],
   "source": [
    "# routine\n",
    "\n",
    "import sys\n",
    "sys.path.append('./utils/subroutines/')\n",
    "from pices import get_pices_data\n",
    "import numpy as np\n",
    "import pandas as pd\n",
    "import matplotlib.pyplot as plt\n",
    "import seaborn as sns\n",
    "import warnings\n",
    "warnings.simplefilter('ignore') # filter some warning messages\n",
    "lmenames = ['California Current','Gulf of Alaska','East Bering Sea','North Bering Sea','Aleutian Islands','West Bering Sea',\n",
    "        'Sea of Okhotsk','Oyashio Current','R19','Yellow Sea','East China Sea','Kuroshio Current',\n",
    "        'West North Pacific','East North Pacific']\n",
    "    \n",
    "# Calculate and plot climatology for the period: 1992-2014 (overlapping period)\n",
    "#(we will use the same routines for the satellite as in the PICES tool)\n",
    "\n",
    "# Calculate anomalies for the historical period and future (do we want to have a selected period? maybe not)\n",
    "# plot \n",
    "\n",
    "# Calculate trends\n",
    "# display\n",
    "\n",
    "# Calculate frequency - (interannual variability: standard deviation? spectral peaks?\n",
    "# plot? "
   ]
  },
  {
   "cell_type": "code",
   "execution_count": null,
   "metadata": {},
   "outputs": [],
   "source": []
  }
 ],
 "metadata": {
  "kernelspec": {
   "display_name": "Python 3",
   "language": "python",
   "name": "python3"
  },
  "language_info": {
   "codemirror_mode": {
    "name": "ipython",
    "version": 3
   },
   "file_extension": ".py",
   "mimetype": "text/x-python",
   "name": "python",
   "nbconvert_exporter": "python",
   "pygments_lexer": "ipython3",
   "version": "3.7.1"
  }
 },
 "nbformat": 4,
 "nbformat_minor": 2
}
